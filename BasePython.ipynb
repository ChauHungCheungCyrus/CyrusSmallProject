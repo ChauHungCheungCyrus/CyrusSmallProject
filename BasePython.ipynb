{
  "nbformat": 4,
  "nbformat_minor": 0,
  "metadata": {
    "colab": {
      "provenance": [],
      "authorship_tag": "ABX9TyM+NEsEqUaeE74dkQ22hDh+",
      "include_colab_link": true
    },
    "kernelspec": {
      "name": "python3",
      "display_name": "Python 3"
    },
    "language_info": {
      "name": "python"
    }
  },
  "cells": [
    {
      "cell_type": "markdown",
      "metadata": {
        "id": "view-in-github",
        "colab_type": "text"
      },
      "source": [
        "<a href=\"https://colab.research.google.com/github/ChauHungCheungCyrus/CyrusSmallProject/blob/main/BasePython.ipynb\" target=\"_parent\"><img src=\"https://colab.research.google.com/assets/colab-badge.svg\" alt=\"Open In Colab\"/></a>"
      ]
    },
    {
      "cell_type": "code",
      "execution_count": null,
      "metadata": {
        "id": "Qb_XIxkoRbxC",
        "colab": {
          "base_uri": "https://localhost:8080/"
        },
        "outputId": "15140640-32b0-4b43-c0d9-65f9aafa92fb"
      },
      "outputs": [
        {
          "output_type": "execute_result",
          "data": {
            "text/plain": [
              "[{'': '1',\n",
              "  'manufacturer': 'audi',\n",
              "  'model': 'a4',\n",
              "  'displ': '1.8',\n",
              "  'year': '1999',\n",
              "  'cyl': '4',\n",
              "  'trans': 'auto(l5)',\n",
              "  'drv': 'f',\n",
              "  'cty': '18',\n",
              "  'hwy': '29',\n",
              "  'fl': 'p',\n",
              "  'class': 'compact'},\n",
              " {'': '2',\n",
              "  'manufacturer': 'audi',\n",
              "  'model': 'a4',\n",
              "  'displ': '1.8',\n",
              "  'year': '1999',\n",
              "  'cyl': '4',\n",
              "  'trans': 'manual(m5)',\n",
              "  'drv': 'f',\n",
              "  'cty': '21',\n",
              "  'hwy': '29',\n",
              "  'fl': 'p',\n",
              "  'class': 'compact'},\n",
              " {'': '3',\n",
              "  'manufacturer': 'audi',\n",
              "  'model': 'a4',\n",
              "  'displ': '2',\n",
              "  'year': '2008',\n",
              "  'cyl': '4',\n",
              "  'trans': 'manual(m6)',\n",
              "  'drv': 'f',\n",
              "  'cty': '20',\n",
              "  'hwy': '31',\n",
              "  'fl': 'p',\n",
              "  'class': 'compact'}]"
            ]
          },
          "metadata": {},
          "execution_count": 5
        }
      ],
      "source": [
        "import csv\n",
        "\n",
        "%precision 2\n",
        "\n",
        "with open(\"mpg.csv\") as csvfile:\n",
        "  mpg = list(csv.DictReader(csvfile))\n",
        "\n",
        "mpg[:3]\n"
      ]
    },
    {
      "cell_type": "code",
      "source": [
        "len(mpg) #check how many dict we have"
      ],
      "metadata": {
        "colab": {
          "base_uri": "https://localhost:8080/"
        },
        "id": "oLNXvyBUTGM8",
        "outputId": "6f67a6a3-81c7-442d-f94b-f2d39a3e348d"
      },
      "execution_count": null,
      "outputs": [
        {
          "output_type": "execute_result",
          "data": {
            "text/plain": [
              "234"
            ]
          },
          "metadata": {},
          "execution_count": 6
        }
      ]
    },
    {
      "cell_type": "code",
      "source": [
        "mpg[0].keys()#check the variable of the csvfile"
      ],
      "metadata": {
        "colab": {
          "base_uri": "https://localhost:8080/"
        },
        "id": "LGTfDERUTQZF",
        "outputId": "7d8c7237-0912-435f-f2ec-2b125e3bc8a7"
      },
      "execution_count": null,
      "outputs": [
        {
          "output_type": "execute_result",
          "data": {
            "text/plain": [
              "dict_keys(['', 'manufacturer', 'model', 'displ', 'year', 'cyl', 'trans', 'drv', 'cty', 'hwy', 'fl', 'class'])"
            ]
          },
          "metadata": {},
          "execution_count": 7
        }
      ]
    },
    {
      "cell_type": "markdown",
      "source": [
        "**Find average cty fuel economy around all cars**"
      ],
      "metadata": {
        "id": "PA1OO1JjTpdK"
      }
    },
    {
      "cell_type": "code",
      "source": [
        "sum(float(d[\"cty\"])for d in mpg) / len(mpg)"
      ],
      "metadata": {
        "colab": {
          "base_uri": "https://localhost:8080/"
        },
        "id": "7MZjeXy-T15A",
        "outputId": "0c1eea79-2721-4b57-912f-af4f66fae554"
      },
      "execution_count": null,
      "outputs": [
        {
          "output_type": "execute_result",
          "data": {
            "text/plain": [
              "16.86"
            ]
          },
          "metadata": {},
          "execution_count": 8
        }
      ]
    },
    {
      "cell_type": "markdown",
      "source": [
        "**Find average hwy fuel economy around all cars**"
      ],
      "metadata": {
        "id": "Y2RFxDuGUA6L"
      }
    },
    {
      "cell_type": "code",
      "source": [
        "sum(float(d[\"hwy\"])for d in mpg) / len(mpg)"
      ],
      "metadata": {
        "colab": {
          "base_uri": "https://localhost:8080/"
        },
        "id": "GNJN3vyTUJCq",
        "outputId": "a9b5b161-e4f4-4841-d1ae-77fab22c07f9"
      },
      "execution_count": null,
      "outputs": [
        {
          "output_type": "execute_result",
          "data": {
            "text/plain": [
              "23.44"
            ]
          },
          "metadata": {},
          "execution_count": 9
        }
      ]
    },
    {
      "cell_type": "markdown",
      "source": [
        "Grouping the cars by number of cylinder and finding the average cty mpg for each group (Example1)"
      ],
      "metadata": {
        "id": "FPFFP7PoUdyb"
      }
    },
    {
      "cell_type": "code",
      "source": [
        "cylinders = set(d[\"cyl\"]for d in mpg)"
      ],
      "metadata": {
        "id": "356yJfwmUo7L"
      },
      "execution_count": null,
      "outputs": []
    },
    {
      "cell_type": "code",
      "source": [
        "CtyMpgByCyl = []\n",
        "\n",
        "for c in cylinders:\n",
        "  sum = 0\n",
        "  count = 0\n",
        "  for d in mpg:\n",
        "    if d['cyl'] == c:\n",
        "      sum += float(d[\"cty\"]) #add the cty mpg\n",
        "      count += 1\n",
        "  CtyMpgByCyl.append((c, sum/ count)) #append tuple2 the list\n",
        "\n",
        "CtyMpgByCyl.sort(key=lambda x: x[0])\n",
        "CtyMpgByCyl"
      ],
      "metadata": {
        "colab": {
          "base_uri": "https://localhost:8080/"
        },
        "id": "nFUoVM4jUmf9",
        "outputId": "c328ad1a-d342-4eb0-b1bd-7f068e4defbf"
      },
      "execution_count": null,
      "outputs": [
        {
          "output_type": "execute_result",
          "data": {
            "text/plain": [
              "[('4', 21.01), ('5', 20.50), ('6', 16.22), ('8', 12.57)]"
            ]
          },
          "metadata": {},
          "execution_count": 14
        }
      ]
    },
    {
      "cell_type": "markdown",
      "source": [
        "Example2"
      ],
      "metadata": {
        "id": "0VFkpEXgycw4"
      }
    },
    {
      "cell_type": "code",
      "source": [
        "vehicleclass = set(d[\"class\"] for d in mpg) #what are the class types\n",
        "vehicleclass"
      ],
      "metadata": {
        "colab": {
          "base_uri": "https://localhost:8080/"
        },
        "id": "sl3ySbBSyh3R",
        "outputId": "50923925-e38e-4e60-f178-b23a7518a40b"
      },
      "execution_count": null,
      "outputs": [
        {
          "output_type": "execute_result",
          "data": {
            "text/plain": [
              "{'2seater', 'compact', 'midsize', 'minivan', 'pickup', 'subcompact', 'suv'}"
            ]
          },
          "metadata": {},
          "execution_count": 15
        }
      ]
    },
    {
      "cell_type": "code",
      "source": [
        "HwyMpgByClass = []\n",
        "\n",
        "for t in vehicleclass:\n",
        "  sum = 0\n",
        "  count = 0\n",
        "  for d in mpg:\n",
        "    if d[\"class\"] == t:\n",
        "      sum += float(d[\"hwy\"])\n",
        "      count += 1\n",
        "  HwyMpgByClass.append(t, sum/ count) #tuple(\"class\", \"avg mpg\")\n",
        "\n",
        "HwyMpgByClass.sort(key=lambda x : x[1])\n",
        "HwyMpgByClass"
      ],
      "metadata": {
        "id": "cFSC1b_Ay_r8"
      },
      "execution_count": null,
      "outputs": []
    },
    {
      "cell_type": "markdown",
      "source": [
        "Datas and Times\n"
      ],
      "metadata": {
        "id": "bUPEX_lVrvl4"
      }
    },
    {
      "cell_type": "code",
      "source": [
        "import datetime as dt\n",
        "import time as tm"
      ],
      "metadata": {
        "id": "HL8vIIqur-Da"
      },
      "execution_count": null,
      "outputs": []
    },
    {
      "cell_type": "code",
      "source": [
        "tm.time()"
      ],
      "metadata": {
        "colab": {
          "base_uri": "https://localhost:8080/"
        },
        "id": "LTTxHDmosHAv",
        "outputId": "af5195ed-ba82-43c3-eaac-c3ec888cd1c8"
      },
      "execution_count": null,
      "outputs": [
        {
          "output_type": "execute_result",
          "data": {
            "text/plain": [
              "1718021416.2410917"
            ]
          },
          "metadata": {},
          "execution_count": 5
        }
      ]
    },
    {
      "cell_type": "code",
      "source": [
        "dtnow = dt.datetime.fromtimestamp(tm.time())\n",
        "dtnow"
      ],
      "metadata": {
        "colab": {
          "base_uri": "https://localhost:8080/"
        },
        "id": "eQ6GqHvkDnLu",
        "outputId": "88c58dcd-1832-497d-d0aa-52fc476ba879"
      },
      "execution_count": null,
      "outputs": [
        {
          "output_type": "execute_result",
          "data": {
            "text/plain": [
              "datetime.datetime(2024, 6, 10, 12, 11, 12, 52295)"
            ]
          },
          "metadata": {},
          "execution_count": 6
        }
      ]
    },
    {
      "cell_type": "markdown",
      "source": [
        "get the data from a datatime"
      ],
      "metadata": {
        "id": "1t_-IlMkEPwH"
      }
    },
    {
      "cell_type": "code",
      "source": [
        "dtnow.year, dtnow.month, dtnow.day, dtnow.hour, dtnow.minute, dtnow.second"
      ],
      "metadata": {
        "colab": {
          "base_uri": "https://localhost:8080/"
        },
        "id": "HeLCi8dVD712",
        "outputId": "3c710272-c314-4473-8d3d-2a89cf6166d4"
      },
      "execution_count": null,
      "outputs": [
        {
          "output_type": "execute_result",
          "data": {
            "text/plain": [
              "(2024, 6, 10, 12, 11, 12)"
            ]
          },
          "metadata": {},
          "execution_count": 7
        }
      ]
    },
    {
      "cell_type": "markdown",
      "source": [
        "Find the 100 days ago"
      ],
      "metadata": {
        "id": "ZclqzMNgEkHN"
      }
    },
    {
      "cell_type": "code",
      "source": [
        "delta = dt.timedelta(days = 100)\n",
        "delta"
      ],
      "metadata": {
        "colab": {
          "base_uri": "https://localhost:8080/"
        },
        "id": "cGX4Rx-nET12",
        "outputId": "003a1956-068b-40cc-ab28-b5462edb19fd"
      },
      "execution_count": null,
      "outputs": [
        {
          "output_type": "execute_result",
          "data": {
            "text/plain": [
              "datetime.timedelta(days=100)"
            ]
          },
          "metadata": {},
          "execution_count": 8
        }
      ]
    },
    {
      "cell_type": "code",
      "source": [
        "today = dt.date.today()"
      ],
      "metadata": {
        "id": "8Mkx2LiLEoX6"
      },
      "execution_count": null,
      "outputs": []
    },
    {
      "cell_type": "code",
      "source": [
        "today - delta"
      ],
      "metadata": {
        "colab": {
          "base_uri": "https://localhost:8080/"
        },
        "id": "g-x4crv-Er42",
        "outputId": "7eda0a3d-1775-4a65-f2d4-e846f6b6ef44"
      },
      "execution_count": null,
      "outputs": [
        {
          "output_type": "execute_result",
          "data": {
            "text/plain": [
              "datetime.date(2024, 3, 2)"
            ]
          },
          "metadata": {},
          "execution_count": 11
        }
      ]
    },
    {
      "cell_type": "markdown",
      "source": [
        "Test it"
      ],
      "metadata": {
        "id": "nfrlvYWHExX-"
      }
    },
    {
      "cell_type": "code",
      "source": [
        "today > today - delta"
      ],
      "metadata": {
        "colab": {
          "base_uri": "https://localhost:8080/"
        },
        "id": "btUO_y3gEzNb",
        "outputId": "ad6ddcc5-5d95-4a4b-aa8b-cdabc99c2034"
      },
      "execution_count": null,
      "outputs": [
        {
          "output_type": "execute_result",
          "data": {
            "text/plain": [
              "True"
            ]
          },
          "metadata": {},
          "execution_count": 13
        }
      ]
    },
    {
      "cell_type": "markdown",
      "source": [
        "Very basical Python OOP"
      ],
      "metadata": {
        "id": "MINgxmIuE-Ko"
      }
    },
    {
      "cell_type": "code",
      "source": [
        "class Person:\n",
        "  department = \"School of Engineering\"\n",
        "\n",
        "  def set_name(self, new_name):\n",
        "    self.name = new_name\n",
        "\n",
        "  def set_location(self, new_location):\n",
        "    self.location = new_location"
      ],
      "metadata": {
        "id": "7VSOdXnJFAYI"
      },
      "execution_count": null,
      "outputs": []
    },
    {
      "cell_type": "code",
      "source": [
        "person = Person()\n",
        "person.set_name(\"Cheu Hung Cheung, Cyrus\")\n",
        "person.set_location(\"Hong Kong\")\n",
        "print(\"{} live in {} and works in the department {}\".format(person.name, person.location, person.department))"
      ],
      "metadata": {
        "colab": {
          "base_uri": "https://localhost:8080/"
        },
        "id": "TYYAF1DpFfB9",
        "outputId": "a9c3e6d7-dc89-450f-8d92-c494149c7f80"
      },
      "execution_count": null,
      "outputs": [
        {
          "output_type": "stream",
          "name": "stdout",
          "text": [
            "Cheu Hung Cheung, Cyrus live in Hong Kong and works in the department School of Engineering\n"
          ]
        }
      ]
    },
    {
      "cell_type": "markdown",
      "source": [
        "Map function"
      ],
      "metadata": {
        "id": "WjkaX0x_G4IQ"
      }
    },
    {
      "cell_type": "code",
      "source": [
        "store1 = [10.00, 11.00, 12.34, 2.34]\n",
        "store2 = [9.00, 11.10, 12.34, 2.01]\n",
        "cheapest = map(min, store1, store2)\n",
        "cheapest"
      ],
      "metadata": {
        "colab": {
          "base_uri": "https://localhost:8080/"
        },
        "id": "BapF2Af-G6jp",
        "outputId": "68ee45ea-1584-43b0-8b54-c8030e7fe0ee"
      },
      "execution_count": null,
      "outputs": [
        {
          "output_type": "execute_result",
          "data": {
            "text/plain": [
              "<map at 0x7c9614637e50>"
            ]
          },
          "metadata": {},
          "execution_count": 18
        }
      ]
    },
    {
      "cell_type": "code",
      "source": [
        "for i in cheapest:\n",
        "  print(i)"
      ],
      "metadata": {
        "colab": {
          "base_uri": "https://localhost:8080/"
        },
        "id": "MeA9ZVbSHbSL",
        "outputId": "8e4aaeb3-64f8-4817-f6d9-0f85714f4e9a"
      },
      "execution_count": null,
      "outputs": [
        {
          "output_type": "stream",
          "name": "stdout",
          "text": [
            "9.0\n",
            "11.0\n",
            "12.34\n",
            "2.01\n"
          ]
        }
      ]
    },
    {
      "cell_type": "markdown",
      "source": [
        "Lambda Function"
      ],
      "metadata": {
        "id": "eNDgYmF5Hj0h"
      }
    },
    {
      "cell_type": "code",
      "source": [
        "my_function = lambda a, b, c: a + b\n",
        "my_function(1, 2, 3)"
      ],
      "metadata": {
        "colab": {
          "base_uri": "https://localhost:8080/"
        },
        "id": "k7-XmX3QHmmV",
        "outputId": "3079ee6b-bee6-4e7b-d111-72a47a500dc5"
      },
      "execution_count": null,
      "outputs": [
        {
          "output_type": "execute_result",
          "data": {
            "text/plain": [
              "3"
            ]
          },
          "metadata": {},
          "execution_count": 20
        }
      ]
    },
    {
      "cell_type": "markdown",
      "source": [
        "Numpy_ed"
      ],
      "metadata": {
        "id": "bcZIMnuHN3Vo"
      }
    },
    {
      "cell_type": "code",
      "source": [
        "import numpy as np\n",
        "import math"
      ],
      "metadata": {
        "id": "0VmWyOXMN5qK"
      },
      "execution_count": null,
      "outputs": []
    },
    {
      "cell_type": "markdown",
      "source": [
        "Array Creation"
      ],
      "metadata": {
        "id": "-ag4IUA7N97P"
      }
    },
    {
      "cell_type": "code",
      "source": [
        "a = np.array([1, 2, 3])\n",
        "print(a)\n",
        "print(a.ndim)# finding the dumension of the list"
      ],
      "metadata": {
        "colab": {
          "base_uri": "https://localhost:8080/"
        },
        "id": "23UYvofOOBRs",
        "outputId": "8079cfc5-b916-4c06-ae11-c36594df5ed4"
      },
      "execution_count": null,
      "outputs": [
        {
          "output_type": "stream",
          "name": "stdout",
          "text": [
            "[1 2 3]\n",
            "1\n"
          ]
        }
      ]
    },
    {
      "cell_type": "code",
      "source": [
        "b = np.array([[1, 2, 3], [4, 5, 6]])\n",
        "print(b)\n",
        "print(b.ndim)# finding the dumension of the list"
      ],
      "metadata": {
        "colab": {
          "base_uri": "https://localhost:8080/"
        },
        "id": "KdtEPAykOXgZ",
        "outputId": "7b8cbd00-9be3-42d6-bb6a-a6e76b2d30e2"
      },
      "execution_count": null,
      "outputs": [
        {
          "output_type": "stream",
          "name": "stdout",
          "text": [
            "[[1 2 3]\n",
            " [4 5 6]]\n",
            "2\n"
          ]
        }
      ]
    },
    {
      "cell_type": "code",
      "source": [
        "b.shape"
      ],
      "metadata": {
        "colab": {
          "base_uri": "https://localhost:8080/"
        },
        "id": "TtPo5uVJOm_4",
        "outputId": "f3be5883-ca29-4d97-fc3f-3e49b05f8383"
      },
      "execution_count": null,
      "outputs": [
        {
          "output_type": "execute_result",
          "data": {
            "text/plain": [
              "(2, 3)"
            ]
          },
          "metadata": {},
          "execution_count": 28
        }
      ]
    },
    {
      "cell_type": "code",
      "source": [
        "b.dtype #check the type of the array"
      ],
      "metadata": {
        "id": "-BlJ6y1cOwOp",
        "outputId": "c059d063-179e-472d-f63c-c159fb8695fe",
        "colab": {
          "base_uri": "https://localhost:8080/"
        }
      },
      "execution_count": null,
      "outputs": [
        {
          "output_type": "execute_result",
          "data": {
            "text/plain": [
              "dtype('int64')"
            ]
          },
          "metadata": {},
          "execution_count": 30
        }
      ]
    }
  ]
}